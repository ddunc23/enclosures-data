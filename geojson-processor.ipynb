{
 "cells": [
  {
   "cell_type": "code",
   "execution_count": 1,
   "id": "3aa9b024-b124-41a5-9c31-0b70f3cac0d8",
   "metadata": {
    "tags": []
   },
   "outputs": [],
   "source": [
    "import json"
   ]
  },
  {
   "cell_type": "code",
   "execution_count": 3,
   "id": "8a2274ed-0212-469c-b1cc-71fbbb1a670b",
   "metadata": {
    "tags": []
   },
   "outputs": [],
   "source": [
    "buildings = json.load(open('./listed-buildings-lune-valley-v1-2024-07-04.geojson'))"
   ]
  },
  {
   "cell_type": "code",
   "execution_count": 4,
   "id": "38403b8b-7373-40a0-b6a0-71e8e3897913",
   "metadata": {
    "tags": []
   },
   "outputs": [],
   "source": [
    "for b in buildings['features']:\n",
    "    b['properties']['Theme']: 'Listed Building'"
   ]
  },
  {
   "cell_type": "code",
   "execution_count": 5,
   "id": "4942bd63-51e6-4d96-8125-4b4458dfcc08",
   "metadata": {
    "tags": []
   },
   "outputs": [],
   "source": [
    "json.dump(buildings, open('./listed-buildings-lune-valley-v2-2024-07-04.geojson', 'w'))"
   ]
  },
  {
   "cell_type": "code",
   "execution_count": null,
   "id": "203f1cd5-284d-4993-a7b4-75aeb5b01752",
   "metadata": {},
   "outputs": [],
   "source": []
  }
 ],
 "metadata": {
  "kernelspec": {
   "display_name": "Python 3 (ipykernel)",
   "language": "python",
   "name": "python3"
  },
  "language_info": {
   "codemirror_mode": {
    "name": "ipython",
    "version": 3
   },
   "file_extension": ".py",
   "mimetype": "text/x-python",
   "name": "python",
   "nbconvert_exporter": "python",
   "pygments_lexer": "ipython3",
   "version": "3.11.1"
  }
 },
 "nbformat": 4,
 "nbformat_minor": 5
}
