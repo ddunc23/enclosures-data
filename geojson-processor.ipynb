{
 "cells": [
  {
   "cell_type": "code",
   "execution_count": 1,
   "id": "3aa9b024-b124-41a5-9c31-0b70f3cac0d8",
   "metadata": {
    "tags": []
   },
   "outputs": [],
   "source": [
    "import json"
   ]
  },
  {
   "cell_type": "code",
   "execution_count": 2,
   "id": "8a2274ed-0212-469c-b1cc-71fbbb1a670b",
   "metadata": {
    "tags": []
   },
   "outputs": [],
   "source": [
    "buildings = json.load(open('./listed-buildings-lune-valley-v1-2024-07-04.geojson'))"
   ]
  },
  {
   "cell_type": "code",
   "execution_count": 6,
   "id": "38403b8b-7373-40a0-b6a0-71e8e3897913",
   "metadata": {
    "tags": []
   },
   "outputs": [],
   "source": [
    "for b in buildings['features']:\n",
    "    b['properties']['Theme'] = 'Listed Building'"
   ]
  },
  {
   "cell_type": "code",
   "execution_count": 8,
   "id": "4942bd63-51e6-4d96-8125-4b4458dfcc08",
   "metadata": {
    "tags": []
   },
   "outputs": [],
   "source": [
    "json.dump(buildings, open('./listed-buildings-lune-valley-v2-2024-07-04.geojson', 'w'))"
   ]
  },
  {
   "cell_type": "code",
   "execution_count": 7,
   "id": "203f1cd5-284d-4993-a7b4-75aeb5b01752",
   "metadata": {},
   "outputs": [
    {
     "data": {
      "text/plain": [
       "{'type': 'Feature',\n",
       " 'properties': {'British Listed Buildings ID': 101025254,\n",
       "  'Heritage Authority': 'Historic England',\n",
       "  'Heritage Authority ID': 1025254,\n",
       "  'Heritage Authority Legacy ID': '391846',\n",
       "  'Name': '336, Marine Road Central',\n",
       "  'Grade': 'II',\n",
       "  'Latitude': 54.075269,\n",
       "  'Longitude': -2.861358,\n",
       "  'Wikidata ID': 'Q26276042',\n",
       "  'Wikipedia Page': None,\n",
       "  'Theme': 'Listed Building'},\n",
       " 'geometry': {'type': 'Point', 'coordinates': [-2.861358, 54.075269]}}"
      ]
     },
     "execution_count": 7,
     "metadata": {},
     "output_type": "execute_result"
    }
   ],
   "source": [
    "buildings['features'][0]"
   ]
  },
  {
   "cell_type": "code",
   "execution_count": null,
   "id": "3f07ac3b-810f-4f3c-b788-2e9359af9920",
   "metadata": {},
   "outputs": [],
   "source": []
  }
 ],
 "metadata": {
  "kernelspec": {
   "display_name": "Python 3 (ipykernel)",
   "language": "python",
   "name": "python3"
  },
  "language_info": {
   "codemirror_mode": {
    "name": "ipython",
    "version": 3
   },
   "file_extension": ".py",
   "mimetype": "text/x-python",
   "name": "python",
   "nbconvert_exporter": "python",
   "pygments_lexer": "ipython3",
   "version": "3.11.1"
  }
 },
 "nbformat": 4,
 "nbformat_minor": 5
}
