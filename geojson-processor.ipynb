{
 "cells": [
  {
   "cell_type": "code",
   "execution_count": 1,
   "id": "3aa9b024-b124-41a5-9c31-0b70f3cac0d8",
   "metadata": {
    "tags": []
   },
   "outputs": [],
   "source": [
    "import json\n",
    "import csv\n",
    "import geojson"
   ]
  },
  {
   "cell_type": "code",
   "execution_count": 2,
   "id": "8a2274ed-0212-469c-b1cc-71fbbb1a670b",
   "metadata": {
    "tags": []
   },
   "outputs": [],
   "source": [
    "buildings = json.load(open('./listed-buildings-lune-valley-v1-2024-07-04.geojson'))"
   ]
  },
  {
   "cell_type": "code",
   "execution_count": 6,
   "id": "38403b8b-7373-40a0-b6a0-71e8e3897913",
   "metadata": {
    "tags": []
   },
   "outputs": [],
   "source": [
    "for b in buildings['features']:\n",
    "    b['properties']['Theme'] = 'Listed Building'"
   ]
  },
  {
   "cell_type": "code",
   "execution_count": 8,
   "id": "4942bd63-51e6-4d96-8125-4b4458dfcc08",
   "metadata": {
    "tags": []
   },
   "outputs": [],
   "source": [
    "json.dump(buildings, open('./listed-buildings-lune-valley-v2-2024-07-04.geojson', 'w'))"
   ]
  },
  {
   "cell_type": "code",
   "execution_count": 7,
   "id": "203f1cd5-284d-4993-a7b4-75aeb5b01752",
   "metadata": {},
   "outputs": [
    {
     "data": {
      "text/plain": [
       "{'type': 'Feature',\n",
       " 'properties': {'British Listed Buildings ID': 101025254,\n",
       "  'Heritage Authority': 'Historic England',\n",
       "  'Heritage Authority ID': 1025254,\n",
       "  'Heritage Authority Legacy ID': '391846',\n",
       "  'Name': '336, Marine Road Central',\n",
       "  'Grade': 'II',\n",
       "  'Latitude': 54.075269,\n",
       "  'Longitude': -2.861358,\n",
       "  'Wikidata ID': 'Q26276042',\n",
       "  'Wikipedia Page': None,\n",
       "  'Theme': 'Listed Building'},\n",
       " 'geometry': {'type': 'Point', 'coordinates': [-2.861358, 54.075269]}}"
      ]
     },
     "execution_count": 7,
     "metadata": {},
     "output_type": "execute_result"
    }
   ],
   "source": [
    "buildings['features'][0]"
   ]
  },
  {
   "cell_type": "code",
   "execution_count": 4,
   "id": "3f07ac3b-810f-4f3c-b788-2e9359af9920",
   "metadata": {},
   "outputs": [],
   "source": [
    "artworks = []\n",
    "\n",
    "with open('./LANDSCAPE-ART-10-miles-from-LA6-ArtUK-v4-2024-07-04.csv') as file:\n",
    "    reader = csv.DictReader(file)\n",
    "    for row in reader:\n",
    "        artworks.append(row)\n",
    "    file.close()"
   ]
  },
  {
   "cell_type": "code",
   "execution_count": 5,
   "id": "5ce615ce-c814-4ecd-b02f-74ec6c52f4a6",
   "metadata": {
    "tags": []
   },
   "outputs": [
    {
     "ename": "IndexError",
     "evalue": "list index out of range",
     "output_type": "error",
     "traceback": [
      "\u001b[0;31m---------------------------------------------------------------------------\u001b[0m",
      "\u001b[0;31mIndexError\u001b[0m                                Traceback (most recent call last)",
      "Cell \u001b[0;32mIn[5], line 1\u001b[0m\n\u001b[0;32m----> 1\u001b[0m \u001b[43martworks\u001b[49m\u001b[43m[\u001b[49m\u001b[38;5;241;43m0\u001b[39;49m\u001b[43m]\u001b[49m\n",
      "\u001b[0;31mIndexError\u001b[0m: list index out of range"
     ]
    }
   ],
   "source": [
    "artworks[0]"
   ]
  },
  {
   "cell_type": "code",
   "execution_count": 41,
   "id": "051df1fe-e323-401b-95db-26d9f4d7c863",
   "metadata": {
    "tags": []
   },
   "outputs": [],
   "source": [
    "features = []\n",
    "\n",
    "for row in artworks:\n",
    "\n",
    "    point = geojson.Point(coordinates=(float(row['LONG']), float(row['LAT'])))\n",
    "    row['Theme'] = 'Artwork'\n",
    "    f = geojson.Feature(geometry=point, properties=row)\n",
    "    features.append(f)\n"
   ]
  },
  {
   "cell_type": "code",
   "execution_count": 42,
   "id": "ced534e0-ea6d-41a2-842f-bff362d474fa",
   "metadata": {
    "tags": []
   },
   "outputs": [
    {
     "data": {
      "text/plain": [
       "{\"geometry\": {\"coordinates\": [-2.791493, 53.555287], \"type\": \"Point\"}, \"properties\": {\"COMMENTS\": \"located\", \"ID number for us\": \"1\", \"LAT\": \"53.55528728\", \"LINK\": \"https://artuk.org/discover/artworks/the-beacon-from-berry-street-151686/view_as/grid/search/2024--location_address:lancaster-la2-uk--location_latitude:5401128809999999--location_longitude:-2685728--location_radius:10/page/1\", \"LOCATION CLUES\": \"berry street, skelmersdale\", \"LONG\": \"-2.7914931\", \"TYPOLOGY\": \"Painting\", \"Theme\": \"Artwork\"}, \"type\": \"Feature\"}"
      ]
     },
     "execution_count": 42,
     "metadata": {},
     "output_type": "execute_result"
    }
   ],
   "source": [
    "features[0]"
   ]
  },
  {
   "cell_type": "code",
   "execution_count": 43,
   "id": "1639dcf9-721d-4231-8696-3e62a956759c",
   "metadata": {
    "tags": []
   },
   "outputs": [],
   "source": [
    "fc = geojson.FeatureCollection(features=features)"
   ]
  },
  {
   "cell_type": "code",
   "execution_count": 45,
   "id": "a7a5b338-5f70-47e9-a80b-491db1051a67",
   "metadata": {
    "tags": []
   },
   "outputs": [],
   "source": [
    "geojson.dump(fc, open('./landscape-art-10-miles-from-LA6-ArtUK-v4-2024-07-04.csv', 'w'))"
   ]
  },
  {
   "cell_type": "code",
   "execution_count": null,
   "id": "3c5b4d44-2944-432e-b2e7-6b6946daefec",
   "metadata": {},
   "outputs": [],
   "source": []
  }
 ],
 "metadata": {
  "kernelspec": {
   "display_name": "Python 3 (ipykernel)",
   "language": "python",
   "name": "python3"
  },
  "language_info": {
   "codemirror_mode": {
    "name": "ipython",
    "version": 3
   },
   "file_extension": ".py",
   "mimetype": "text/x-python",
   "name": "python",
   "nbconvert_exporter": "python",
   "pygments_lexer": "ipython3",
   "version": "3.11.1"
  }
 },
 "nbformat": 4,
 "nbformat_minor": 5
}
